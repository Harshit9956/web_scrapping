{
 "cells": [
  {
   "cell_type": "code",
   "execution_count": 6,
   "id": "3360f5b6-b47f-43d8-9309-81e410e8dd91",
   "metadata": {},
   "outputs": [],
   "source": [
    "import pandas as pd\n",
    "import requests\n",
    "from io import StringIO\n",
    "from bs4 import BeautifulSoup\n"
   ]
  },
  {
   "cell_type": "code",
   "execution_count": 9,
   "id": "8f4c96f5-61d4-4b25-810f-b941f1838ef2",
   "metadata": {},
   "outputs": [],
   "source": [
    "final_df=pd.DataFrame()\n",
    "for j in range(1,10):\n",
    "    url=\"https://www.ambitionbox.com/list-of-companies?campaign=homepage_companies_widget&page={}\".format(j)\n",
    "    headers = {\n",
    "    'User-Agent': 'Mozilla/5.0 (Windows NT 10.0; Win64; x64) AppleWebKit/537.36 (KHTML, like Gecko) Chrome/120.0.0.0 Safari/537.36'\n",
    "    \n",
    "    }\n",
    "    req=requests.get(url,headers=headers).text\n",
    "    soup=BeautifulSoup(req,'lxml')\n",
    "    company=soup.find_all('div',class_='companyCardWrapper')\n",
    "    c_name=[]\n",
    "    Rating=[]\n",
    "    details=[]\n",
    "    for i in company:\n",
    "        c_name.append(i.find('h2',class_='companyCardWrapper__companyName').text.strip())\n",
    "        Rating.append(i.find('span',class_=\"companyCardWrapper__ActionCount\").text.strip())\n",
    "        details.append(i.find('span',class_='companyCardWrapper__interLinking').text.strip())\n",
    "    df=pd.DataFrame({'Company_name':c_name,'Reviews':Rating,'detail':details})\n",
    "    final_df=pd.concat([final_df,df],ignore_index=True)\n",
    "\n",
    "    "
   ]
  },
  {
   "cell_type": "code",
   "execution_count": 10,
   "id": "0227eb5d-546a-45d5-8e92-9bc651c30d19",
   "metadata": {},
   "outputs": [
    {
     "data": {
      "text/plain": [
       "20"
      ]
     },
     "execution_count": 10,
     "metadata": {},
     "output_type": "execute_result"
    }
   ],
   "source": [
    "len(final_df)"
   ]
  },
  {
   "cell_type": "code",
   "execution_count": 11,
   "id": "79252cbd-6a2e-45cc-9ed4-993550f7d98f",
   "metadata": {},
   "outputs": [
    {
     "data": {
      "text/html": [
       "<div>\n",
       "<style scoped>\n",
       "    .dataframe tbody tr th:only-of-type {\n",
       "        vertical-align: middle;\n",
       "    }\n",
       "\n",
       "    .dataframe tbody tr th {\n",
       "        vertical-align: top;\n",
       "    }\n",
       "\n",
       "    .dataframe thead th {\n",
       "        text-align: right;\n",
       "    }\n",
       "</style>\n",
       "<table border=\"1\" class=\"dataframe\">\n",
       "  <thead>\n",
       "    <tr style=\"text-align: right;\">\n",
       "      <th></th>\n",
       "      <th>Company_name</th>\n",
       "      <th>Reviews</th>\n",
       "      <th>detail</th>\n",
       "    </tr>\n",
       "  </thead>\n",
       "  <tbody>\n",
       "    <tr>\n",
       "      <th>16</th>\n",
       "      <td>IBM</td>\n",
       "      <td>19.6k</td>\n",
       "      <td>IT Services &amp; Consulting | 1 Lakh+ Employees |...</td>\n",
       "    </tr>\n",
       "    <tr>\n",
       "      <th>12</th>\n",
       "      <td>Teleperformance</td>\n",
       "      <td>21.7k</td>\n",
       "      <td>BPO | 50k-1 Lakh Employees | Forbes Global 200...</td>\n",
       "    </tr>\n",
       "    <tr>\n",
       "      <th>5</th>\n",
       "      <td>ICICI Bank</td>\n",
       "      <td>33.3k</td>\n",
       "      <td>Banking | 1 Lakh+ Employees | Public | 30 year...</td>\n",
       "    </tr>\n",
       "  </tbody>\n",
       "</table>\n",
       "</div>"
      ],
      "text/plain": [
       "       Company_name Reviews                                             detail\n",
       "16              IBM   19.6k  IT Services & Consulting | 1 Lakh+ Employees |...\n",
       "12  Teleperformance   21.7k  BPO | 50k-1 Lakh Employees | Forbes Global 200...\n",
       "5        ICICI Bank   33.3k  Banking | 1 Lakh+ Employees | Public | 30 year..."
      ]
     },
     "execution_count": 11,
     "metadata": {},
     "output_type": "execute_result"
    }
   ],
   "source": [
    "final_df.sample(3)"
   ]
  },
  {
   "cell_type": "code",
   "execution_count": 13,
   "id": "975ec407-db9e-4d1f-8096-588772a397e2",
   "metadata": {},
   "outputs": [],
   "source": [
    "final_df['company_type']=final_df['detail'].str.split('|').str.get(0)\n",
    "final_df['empoyees']=final_df['detail'].str.split('|').str.get(1)\n",
    "final_df['City']=final_df['detail'].str.split('|').str.get(4)"
   ]
  },
  {
   "cell_type": "code",
   "execution_count": 16,
   "id": "28a2ba0d-75c3-4120-a4a0-be51a7711a57",
   "metadata": {},
   "outputs": [
    {
     "data": {
      "text/html": [
       "<div>\n",
       "<style scoped>\n",
       "    .dataframe tbody tr th:only-of-type {\n",
       "        vertical-align: middle;\n",
       "    }\n",
       "\n",
       "    .dataframe tbody tr th {\n",
       "        vertical-align: top;\n",
       "    }\n",
       "\n",
       "    .dataframe thead th {\n",
       "        text-align: right;\n",
       "    }\n",
       "</style>\n",
       "<table border=\"1\" class=\"dataframe\">\n",
       "  <thead>\n",
       "    <tr style=\"text-align: right;\">\n",
       "      <th></th>\n",
       "      <th>Company_name</th>\n",
       "      <th>Reviews</th>\n",
       "      <th>company_type</th>\n",
       "      <th>empoyees</th>\n",
       "      <th>City</th>\n",
       "    </tr>\n",
       "  </thead>\n",
       "  <tbody>\n",
       "    <tr>\n",
       "      <th>3</th>\n",
       "      <td>Wipro</td>\n",
       "      <td>38.7k</td>\n",
       "      <td>IT Services &amp; Consulting</td>\n",
       "      <td>1 Lakh+ Employees</td>\n",
       "      <td>Bangalore/Bengaluru +274 more</td>\n",
       "    </tr>\n",
       "    <tr>\n",
       "      <th>4</th>\n",
       "      <td>HDFC Bank</td>\n",
       "      <td>33.6k</td>\n",
       "      <td>Banking</td>\n",
       "      <td>1 Lakh+ Employees</td>\n",
       "      <td>Mumbai +1517 more</td>\n",
       "    </tr>\n",
       "  </tbody>\n",
       "</table>\n",
       "</div>"
      ],
      "text/plain": [
       "  Company_name Reviews               company_type             empoyees  \\\n",
       "3        Wipro   38.7k  IT Services & Consulting    1 Lakh+ Employees    \n",
       "4    HDFC Bank   33.6k                   Banking    1 Lakh+ Employees    \n",
       "\n",
       "                             City  \n",
       "3   Bangalore/Bengaluru +274 more  \n",
       "4               Mumbai +1517 more  "
      ]
     },
     "execution_count": 16,
     "metadata": {},
     "output_type": "execute_result"
    }
   ],
   "source": [
    "final_df.drop(columns='detail',inplace=True)\n",
    "final_df.sample(2)"
   ]
  },
  {
   "cell_type": "code",
   "execution_count": null,
   "id": "270af006-0b40-4389-bd0e-675e8c45a072",
   "metadata": {},
   "outputs": [],
   "source": [
    "final_df.to_csv('web_scrapping.csv')"
   ]
  }
 ],
 "metadata": {
  "kernelspec": {
   "display_name": "Python 3 (ipykernel)",
   "language": "python",
   "name": "python3"
  },
  "language_info": {
   "codemirror_mode": {
    "name": "ipython",
    "version": 3
   },
   "file_extension": ".py",
   "mimetype": "text/x-python",
   "name": "python",
   "nbconvert_exporter": "python",
   "pygments_lexer": "ipython3",
   "version": "3.11.5"
  }
 },
 "nbformat": 4,
 "nbformat_minor": 5
}
